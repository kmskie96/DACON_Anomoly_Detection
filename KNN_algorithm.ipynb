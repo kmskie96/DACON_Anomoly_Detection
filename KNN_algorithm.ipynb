{
 "cells": [
  {
   "cell_type": "code",
   "execution_count": 75,
   "id": "d13bc5e2",
   "metadata": {},
   "outputs": [],
   "source": [
    "import tensorflow as tf\n",
    "import pandas as pd\n",
    "import numpy as np\n",
    "import matplotlib.pyplot as plt\n",
    "import cv2\n",
    "\n",
    "import os\n",
    "from os.path import join, basename, dirname\n",
    "from glob import glob\n",
    "from IPython.display import display\n",
    "from PIL import Image\n",
    "\n",
    "from sklearn.model_selection import train_test_split\n",
    "from sklearn.neighbors import KNeighborsClassifier"
   ]
  },
  {
   "cell_type": "markdown",
   "id": "d77a9abb",
   "metadata": {},
   "source": [
    "## Data load\n",
    "\n",
    "### 모델학습을 위해 데이터 전처리"
   ]
  },
  {
   "cell_type": "code",
   "execution_count": 15,
   "id": "3e62bc10",
   "metadata": {},
   "outputs": [
    {
     "name": "stdout",
     "output_type": "stream",
     "text": [
      "path_to_current = 'D:\\\\DACON_Anomoly'\n"
     ]
    }
   ],
   "source": [
    "path_to_current = os.getcwd()\n",
    "path_to_dataset = join(path_to_current, 'data')\n",
    "print(f'{path_to_current = }')"
   ]
  },
  {
   "cell_type": "code",
   "execution_count": 16,
   "id": "6c9b37b5",
   "metadata": {},
   "outputs": [
    {
     "data": {
      "text/html": [
       "<div>\n",
       "<style scoped>\n",
       "    .dataframe tbody tr th:only-of-type {\n",
       "        vertical-align: middle;\n",
       "    }\n",
       "\n",
       "    .dataframe tbody tr th {\n",
       "        vertical-align: top;\n",
       "    }\n",
       "\n",
       "    .dataframe thead th {\n",
       "        text-align: right;\n",
       "    }\n",
       "</style>\n",
       "<table border=\"1\" class=\"dataframe\">\n",
       "  <thead>\n",
       "    <tr style=\"text-align: right;\">\n",
       "      <th></th>\n",
       "      <th>file_name</th>\n",
       "      <th>label</th>\n",
       "      <th>class</th>\n",
       "    </tr>\n",
       "    <tr>\n",
       "      <th>index</th>\n",
       "      <th></th>\n",
       "      <th></th>\n",
       "      <th></th>\n",
       "    </tr>\n",
       "  </thead>\n",
       "  <tbody>\n",
       "    <tr>\n",
       "      <th>0</th>\n",
       "      <td>10000.png</td>\n",
       "      <td>transistor-good</td>\n",
       "      <td>transistor</td>\n",
       "    </tr>\n",
       "    <tr>\n",
       "      <th>1</th>\n",
       "      <td>10001.png</td>\n",
       "      <td>capsule-good</td>\n",
       "      <td>capsule</td>\n",
       "    </tr>\n",
       "    <tr>\n",
       "      <th>2</th>\n",
       "      <td>10002.png</td>\n",
       "      <td>transistor-good</td>\n",
       "      <td>transistor</td>\n",
       "    </tr>\n",
       "    <tr>\n",
       "      <th>3</th>\n",
       "      <td>10003.png</td>\n",
       "      <td>wood-good</td>\n",
       "      <td>wood</td>\n",
       "    </tr>\n",
       "    <tr>\n",
       "      <th>4</th>\n",
       "      <td>10004.png</td>\n",
       "      <td>bottle-good</td>\n",
       "      <td>bottle</td>\n",
       "    </tr>\n",
       "    <tr>\n",
       "      <th>...</th>\n",
       "      <td>...</td>\n",
       "      <td>...</td>\n",
       "      <td>...</td>\n",
       "    </tr>\n",
       "    <tr>\n",
       "      <th>10752</th>\n",
       "      <td>20752.png</td>\n",
       "      <td>grid-broken</td>\n",
       "      <td>grid</td>\n",
       "    </tr>\n",
       "    <tr>\n",
       "      <th>10753</th>\n",
       "      <td>20753.png</td>\n",
       "      <td>grid-broken</td>\n",
       "      <td>grid</td>\n",
       "    </tr>\n",
       "    <tr>\n",
       "      <th>10754</th>\n",
       "      <td>20754.png</td>\n",
       "      <td>grid-broken</td>\n",
       "      <td>grid</td>\n",
       "    </tr>\n",
       "    <tr>\n",
       "      <th>10755</th>\n",
       "      <td>20755.png</td>\n",
       "      <td>grid-broken</td>\n",
       "      <td>grid</td>\n",
       "    </tr>\n",
       "    <tr>\n",
       "      <th>10756</th>\n",
       "      <td>20756.png</td>\n",
       "      <td>grid-broken</td>\n",
       "      <td>grid</td>\n",
       "    </tr>\n",
       "  </tbody>\n",
       "</table>\n",
       "<p>10757 rows × 3 columns</p>\n",
       "</div>"
      ],
      "text/plain": [
       "       file_name            label       class\n",
       "index                                        \n",
       "0      10000.png  transistor-good  transistor\n",
       "1      10001.png     capsule-good     capsule\n",
       "2      10002.png  transistor-good  transistor\n",
       "3      10003.png        wood-good        wood\n",
       "4      10004.png      bottle-good      bottle\n",
       "...          ...              ...         ...\n",
       "10752  20752.png      grid-broken        grid\n",
       "10753  20753.png      grid-broken        grid\n",
       "10754  20754.png      grid-broken        grid\n",
       "10755  20755.png      grid-broken        grid\n",
       "10756  20756.png      grid-broken        grid\n",
       "\n",
       "[10757 rows x 3 columns]"
      ]
     },
     "metadata": {},
     "output_type": "display_data"
    }
   ],
   "source": [
    "df = pd.read_csv(join(path_to_dataset, 'new_train_df.csv'), index_col=['index'])\n",
    "\n",
    "display(df)"
   ]
  },
  {
   "cell_type": "code",
   "execution_count": 17,
   "id": "98d6ad20",
   "metadata": {},
   "outputs": [
    {
     "name": "stdout",
     "output_type": "stream",
     "text": [
      "categories = {'transistor': 0, 'capsule': 1, 'wood': 2, 'bottle': 3, 'screw': 4, 'cable': 5, 'carpet': 6, 'hazelnut': 7, 'pill': 8, 'metal_nut': 9, 'zipper': 10, 'leather': 11, 'toothbrush': 12, 'tile': 13, 'grid': 14}\n"
     ]
    },
    {
     "data": {
      "text/html": [
       "<div>\n",
       "<style scoped>\n",
       "    .dataframe tbody tr th:only-of-type {\n",
       "        vertical-align: middle;\n",
       "    }\n",
       "\n",
       "    .dataframe tbody tr th {\n",
       "        vertical-align: top;\n",
       "    }\n",
       "\n",
       "    .dataframe thead th {\n",
       "        text-align: right;\n",
       "    }\n",
       "</style>\n",
       "<table border=\"1\" class=\"dataframe\">\n",
       "  <thead>\n",
       "    <tr style=\"text-align: right;\">\n",
       "      <th></th>\n",
       "      <th>file_name</th>\n",
       "      <th>label</th>\n",
       "      <th>class</th>\n",
       "    </tr>\n",
       "    <tr>\n",
       "      <th>index</th>\n",
       "      <th></th>\n",
       "      <th></th>\n",
       "      <th></th>\n",
       "    </tr>\n",
       "  </thead>\n",
       "  <tbody>\n",
       "    <tr>\n",
       "      <th>0</th>\n",
       "      <td>D:\\DACON_Anomoly\\data\\train\\10000.png</td>\n",
       "      <td>transistor-good</td>\n",
       "      <td>0</td>\n",
       "    </tr>\n",
       "    <tr>\n",
       "      <th>1</th>\n",
       "      <td>D:\\DACON_Anomoly\\data\\train\\10001.png</td>\n",
       "      <td>capsule-good</td>\n",
       "      <td>1</td>\n",
       "    </tr>\n",
       "    <tr>\n",
       "      <th>2</th>\n",
       "      <td>D:\\DACON_Anomoly\\data\\train\\10002.png</td>\n",
       "      <td>transistor-good</td>\n",
       "      <td>0</td>\n",
       "    </tr>\n",
       "    <tr>\n",
       "      <th>3</th>\n",
       "      <td>D:\\DACON_Anomoly\\data\\train\\10003.png</td>\n",
       "      <td>wood-good</td>\n",
       "      <td>2</td>\n",
       "    </tr>\n",
       "    <tr>\n",
       "      <th>4</th>\n",
       "      <td>D:\\DACON_Anomoly\\data\\train\\10004.png</td>\n",
       "      <td>bottle-good</td>\n",
       "      <td>3</td>\n",
       "    </tr>\n",
       "    <tr>\n",
       "      <th>...</th>\n",
       "      <td>...</td>\n",
       "      <td>...</td>\n",
       "      <td>...</td>\n",
       "    </tr>\n",
       "    <tr>\n",
       "      <th>10752</th>\n",
       "      <td>D:\\DACON_Anomoly\\data\\train\\20752.png</td>\n",
       "      <td>grid-broken</td>\n",
       "      <td>14</td>\n",
       "    </tr>\n",
       "    <tr>\n",
       "      <th>10753</th>\n",
       "      <td>D:\\DACON_Anomoly\\data\\train\\20753.png</td>\n",
       "      <td>grid-broken</td>\n",
       "      <td>14</td>\n",
       "    </tr>\n",
       "    <tr>\n",
       "      <th>10754</th>\n",
       "      <td>D:\\DACON_Anomoly\\data\\train\\20754.png</td>\n",
       "      <td>grid-broken</td>\n",
       "      <td>14</td>\n",
       "    </tr>\n",
       "    <tr>\n",
       "      <th>10755</th>\n",
       "      <td>D:\\DACON_Anomoly\\data\\train\\20755.png</td>\n",
       "      <td>grid-broken</td>\n",
       "      <td>14</td>\n",
       "    </tr>\n",
       "    <tr>\n",
       "      <th>10756</th>\n",
       "      <td>D:\\DACON_Anomoly\\data\\train\\20756.png</td>\n",
       "      <td>grid-broken</td>\n",
       "      <td>14</td>\n",
       "    </tr>\n",
       "  </tbody>\n",
       "</table>\n",
       "<p>10757 rows × 3 columns</p>\n",
       "</div>"
      ],
      "text/plain": [
       "                                   file_name            label  class\n",
       "index                                                               \n",
       "0      D:\\DACON_Anomoly\\data\\train\\10000.png  transistor-good      0\n",
       "1      D:\\DACON_Anomoly\\data\\train\\10001.png     capsule-good      1\n",
       "2      D:\\DACON_Anomoly\\data\\train\\10002.png  transistor-good      0\n",
       "3      D:\\DACON_Anomoly\\data\\train\\10003.png        wood-good      2\n",
       "4      D:\\DACON_Anomoly\\data\\train\\10004.png      bottle-good      3\n",
       "...                                      ...              ...    ...\n",
       "10752  D:\\DACON_Anomoly\\data\\train\\20752.png      grid-broken     14\n",
       "10753  D:\\DACON_Anomoly\\data\\train\\20753.png      grid-broken     14\n",
       "10754  D:\\DACON_Anomoly\\data\\train\\20754.png      grid-broken     14\n",
       "10755  D:\\DACON_Anomoly\\data\\train\\20755.png      grid-broken     14\n",
       "10756  D:\\DACON_Anomoly\\data\\train\\20756.png      grid-broken     14\n",
       "\n",
       "[10757 rows x 3 columns]"
      ]
     },
     "metadata": {},
     "output_type": "display_data"
    }
   ],
   "source": [
    "# 절대 경로로 변환\n",
    "df.file_name = df.file_name.apply(lambda path: join(path_to_dataset, 'train', path))\n",
    "\n",
    "# class numbering\n",
    "categories = {class_:i for i, class_ in enumerate(df['class'].unique())}\n",
    "print(f\"{categories = }\")\n",
    "\n",
    "# class: str -> int\n",
    "df['class'] = df['class'].apply(lambda class_: categories[class_])\n",
    "\n",
    "display(df)"
   ]
  },
  {
   "cell_type": "markdown",
   "id": "28f96c2e",
   "metadata": {},
   "source": [
    "### Tramsistor만 선택"
   ]
  },
  {
   "cell_type": "code",
   "execution_count": 19,
   "id": "3f213c7b",
   "metadata": {},
   "outputs": [
    {
     "data": {
      "text/plain": [
       "index\n",
       "0         True\n",
       "1        False\n",
       "2         True\n",
       "3        False\n",
       "4        False\n",
       "         ...  \n",
       "10752    False\n",
       "10753    False\n",
       "10754    False\n",
       "10755    False\n",
       "10756    False\n",
       "Name: class, Length: 10757, dtype: bool"
      ]
     },
     "execution_count": 19,
     "metadata": {},
     "output_type": "execute_result"
    }
   ],
   "source": [
    "mask = df['class'] == 0\n",
    "mask"
   ]
  },
  {
   "cell_type": "code",
   "execution_count": 27,
   "id": "e15c96d2",
   "metadata": {},
   "outputs": [
    {
     "data": {
      "text/html": [
       "<div>\n",
       "<style scoped>\n",
       "    .dataframe tbody tr th:only-of-type {\n",
       "        vertical-align: middle;\n",
       "    }\n",
       "\n",
       "    .dataframe tbody tr th {\n",
       "        vertical-align: top;\n",
       "    }\n",
       "\n",
       "    .dataframe thead th {\n",
       "        text-align: right;\n",
       "    }\n",
       "</style>\n",
       "<table border=\"1\" class=\"dataframe\">\n",
       "  <thead>\n",
       "    <tr style=\"text-align: right;\">\n",
       "      <th></th>\n",
       "      <th>file_name</th>\n",
       "      <th>label</th>\n",
       "      <th>class</th>\n",
       "    </tr>\n",
       "    <tr>\n",
       "      <th>index</th>\n",
       "      <th></th>\n",
       "      <th></th>\n",
       "      <th></th>\n",
       "    </tr>\n",
       "  </thead>\n",
       "  <tbody>\n",
       "    <tr>\n",
       "      <th>0</th>\n",
       "      <td>D:\\DACON_Anomoly\\data\\train\\10000.png</td>\n",
       "      <td>transistor-good</td>\n",
       "      <td>0</td>\n",
       "    </tr>\n",
       "    <tr>\n",
       "      <th>2</th>\n",
       "      <td>D:\\DACON_Anomoly\\data\\train\\10002.png</td>\n",
       "      <td>transistor-good</td>\n",
       "      <td>0</td>\n",
       "    </tr>\n",
       "    <tr>\n",
       "      <th>9</th>\n",
       "      <td>D:\\DACON_Anomoly\\data\\train\\10009.png</td>\n",
       "      <td>transistor-good</td>\n",
       "      <td>0</td>\n",
       "    </tr>\n",
       "    <tr>\n",
       "      <th>42</th>\n",
       "      <td>D:\\DACON_Anomoly\\data\\train\\10042.png</td>\n",
       "      <td>transistor-good</td>\n",
       "      <td>0</td>\n",
       "    </tr>\n",
       "    <tr>\n",
       "      <th>49</th>\n",
       "      <td>D:\\DACON_Anomoly\\data\\train\\10049.png</td>\n",
       "      <td>transistor-good</td>\n",
       "      <td>0</td>\n",
       "    </tr>\n",
       "    <tr>\n",
       "      <th>...</th>\n",
       "      <td>...</td>\n",
       "      <td>...</td>\n",
       "      <td>...</td>\n",
       "    </tr>\n",
       "    <tr>\n",
       "      <th>10722</th>\n",
       "      <td>D:\\DACON_Anomoly\\data\\train\\20722.png</td>\n",
       "      <td>transistor-bent_lead</td>\n",
       "      <td>0</td>\n",
       "    </tr>\n",
       "    <tr>\n",
       "      <th>10723</th>\n",
       "      <td>D:\\DACON_Anomoly\\data\\train\\20723.png</td>\n",
       "      <td>transistor-bent_lead</td>\n",
       "      <td>0</td>\n",
       "    </tr>\n",
       "    <tr>\n",
       "      <th>10724</th>\n",
       "      <td>D:\\DACON_Anomoly\\data\\train\\20724.png</td>\n",
       "      <td>transistor-bent_lead</td>\n",
       "      <td>0</td>\n",
       "    </tr>\n",
       "    <tr>\n",
       "      <th>10725</th>\n",
       "      <td>D:\\DACON_Anomoly\\data\\train\\20725.png</td>\n",
       "      <td>transistor-bent_lead</td>\n",
       "      <td>0</td>\n",
       "    </tr>\n",
       "    <tr>\n",
       "      <th>10726</th>\n",
       "      <td>D:\\DACON_Anomoly\\data\\train\\20726.png</td>\n",
       "      <td>transistor-bent_lead</td>\n",
       "      <td>0</td>\n",
       "    </tr>\n",
       "  </tbody>\n",
       "</table>\n",
       "<p>433 rows × 3 columns</p>\n",
       "</div>"
      ],
      "text/plain": [
       "                                   file_name                 label  class\n",
       "index                                                                    \n",
       "0      D:\\DACON_Anomoly\\data\\train\\10000.png       transistor-good      0\n",
       "2      D:\\DACON_Anomoly\\data\\train\\10002.png       transistor-good      0\n",
       "9      D:\\DACON_Anomoly\\data\\train\\10009.png       transistor-good      0\n",
       "42     D:\\DACON_Anomoly\\data\\train\\10042.png       transistor-good      0\n",
       "49     D:\\DACON_Anomoly\\data\\train\\10049.png       transistor-good      0\n",
       "...                                      ...                   ...    ...\n",
       "10722  D:\\DACON_Anomoly\\data\\train\\20722.png  transistor-bent_lead      0\n",
       "10723  D:\\DACON_Anomoly\\data\\train\\20723.png  transistor-bent_lead      0\n",
       "10724  D:\\DACON_Anomoly\\data\\train\\20724.png  transistor-bent_lead      0\n",
       "10725  D:\\DACON_Anomoly\\data\\train\\20725.png  transistor-bent_lead      0\n",
       "10726  D:\\DACON_Anomoly\\data\\train\\20726.png  transistor-bent_lead      0\n",
       "\n",
       "[433 rows x 3 columns]"
      ]
     },
     "metadata": {},
     "output_type": "display_data"
    },
    {
     "name": "stdout",
     "output_type": "stream",
     "text": [
      "label 종류보기\n",
      "['transistor-good' 'transistor-bent_lead' 'transistor-damaged_case'\n",
      " 'transistor-misplaced' 'transistor-cut_lead']\n"
     ]
    }
   ],
   "source": [
    "df_transister = df[mask]\n",
    "display(df_transister)\n",
    "\n",
    "print('label 종류보기')\n",
    "\n",
    "print(df_transister['label'].unique())"
   ]
  },
  {
   "cell_type": "code",
   "execution_count": 31,
   "id": "852b854e",
   "metadata": {},
   "outputs": [
    {
     "name": "stdout",
     "output_type": "stream",
     "text": [
      "transister_categories = {'transistor-good': 0, 'transistor-bent_lead': 1, 'transistor-damaged_case': 2, 'transistor-misplaced': 3, 'transistor-cut_lead': 4}\n"
     ]
    }
   ],
   "source": [
    "# label Numbering\n",
    "transister_categories = {label:i for i, label in enumerate(df_transister['label'].unique())}\n",
    "print(f\"{transister_categories = }\")\n"
   ]
  },
  {
   "cell_type": "code",
   "execution_count": 33,
   "id": "f1eb0259",
   "metadata": {},
   "outputs": [
    {
     "name": "stderr",
     "output_type": "stream",
     "text": [
      "C:\\Users\\kmski\\AppData\\Local\\Temp\\ipykernel_11376\\2350636746.py:1: SettingWithCopyWarning: \n",
      "A value is trying to be set on a copy of a slice from a DataFrame.\n",
      "Try using .loc[row_indexer,col_indexer] = value instead\n",
      "\n",
      "See the caveats in the documentation: https://pandas.pydata.org/pandas-docs/stable/user_guide/indexing.html#returning-a-view-versus-a-copy\n",
      "  df_transister['label'] = df_transister['label'].apply(lambda label:transister_categories[label])\n"
     ]
    },
    {
     "data": {
      "text/html": [
       "<div>\n",
       "<style scoped>\n",
       "    .dataframe tbody tr th:only-of-type {\n",
       "        vertical-align: middle;\n",
       "    }\n",
       "\n",
       "    .dataframe tbody tr th {\n",
       "        vertical-align: top;\n",
       "    }\n",
       "\n",
       "    .dataframe thead th {\n",
       "        text-align: right;\n",
       "    }\n",
       "</style>\n",
       "<table border=\"1\" class=\"dataframe\">\n",
       "  <thead>\n",
       "    <tr style=\"text-align: right;\">\n",
       "      <th></th>\n",
       "      <th>file_name</th>\n",
       "      <th>label</th>\n",
       "      <th>class</th>\n",
       "    </tr>\n",
       "    <tr>\n",
       "      <th>index</th>\n",
       "      <th></th>\n",
       "      <th></th>\n",
       "      <th></th>\n",
       "    </tr>\n",
       "  </thead>\n",
       "  <tbody>\n",
       "    <tr>\n",
       "      <th>0</th>\n",
       "      <td>D:\\DACON_Anomoly\\data\\train\\10000.png</td>\n",
       "      <td>0</td>\n",
       "      <td>0</td>\n",
       "    </tr>\n",
       "    <tr>\n",
       "      <th>2</th>\n",
       "      <td>D:\\DACON_Anomoly\\data\\train\\10002.png</td>\n",
       "      <td>0</td>\n",
       "      <td>0</td>\n",
       "    </tr>\n",
       "    <tr>\n",
       "      <th>9</th>\n",
       "      <td>D:\\DACON_Anomoly\\data\\train\\10009.png</td>\n",
       "      <td>0</td>\n",
       "      <td>0</td>\n",
       "    </tr>\n",
       "    <tr>\n",
       "      <th>42</th>\n",
       "      <td>D:\\DACON_Anomoly\\data\\train\\10042.png</td>\n",
       "      <td>0</td>\n",
       "      <td>0</td>\n",
       "    </tr>\n",
       "    <tr>\n",
       "      <th>49</th>\n",
       "      <td>D:\\DACON_Anomoly\\data\\train\\10049.png</td>\n",
       "      <td>0</td>\n",
       "      <td>0</td>\n",
       "    </tr>\n",
       "    <tr>\n",
       "      <th>...</th>\n",
       "      <td>...</td>\n",
       "      <td>...</td>\n",
       "      <td>...</td>\n",
       "    </tr>\n",
       "    <tr>\n",
       "      <th>10722</th>\n",
       "      <td>D:\\DACON_Anomoly\\data\\train\\20722.png</td>\n",
       "      <td>1</td>\n",
       "      <td>0</td>\n",
       "    </tr>\n",
       "    <tr>\n",
       "      <th>10723</th>\n",
       "      <td>D:\\DACON_Anomoly\\data\\train\\20723.png</td>\n",
       "      <td>1</td>\n",
       "      <td>0</td>\n",
       "    </tr>\n",
       "    <tr>\n",
       "      <th>10724</th>\n",
       "      <td>D:\\DACON_Anomoly\\data\\train\\20724.png</td>\n",
       "      <td>1</td>\n",
       "      <td>0</td>\n",
       "    </tr>\n",
       "    <tr>\n",
       "      <th>10725</th>\n",
       "      <td>D:\\DACON_Anomoly\\data\\train\\20725.png</td>\n",
       "      <td>1</td>\n",
       "      <td>0</td>\n",
       "    </tr>\n",
       "    <tr>\n",
       "      <th>10726</th>\n",
       "      <td>D:\\DACON_Anomoly\\data\\train\\20726.png</td>\n",
       "      <td>1</td>\n",
       "      <td>0</td>\n",
       "    </tr>\n",
       "  </tbody>\n",
       "</table>\n",
       "<p>433 rows × 3 columns</p>\n",
       "</div>"
      ],
      "text/plain": [
       "                                   file_name  label  class\n",
       "index                                                     \n",
       "0      D:\\DACON_Anomoly\\data\\train\\10000.png      0      0\n",
       "2      D:\\DACON_Anomoly\\data\\train\\10002.png      0      0\n",
       "9      D:\\DACON_Anomoly\\data\\train\\10009.png      0      0\n",
       "42     D:\\DACON_Anomoly\\data\\train\\10042.png      0      0\n",
       "49     D:\\DACON_Anomoly\\data\\train\\10049.png      0      0\n",
       "...                                      ...    ...    ...\n",
       "10722  D:\\DACON_Anomoly\\data\\train\\20722.png      1      0\n",
       "10723  D:\\DACON_Anomoly\\data\\train\\20723.png      1      0\n",
       "10724  D:\\DACON_Anomoly\\data\\train\\20724.png      1      0\n",
       "10725  D:\\DACON_Anomoly\\data\\train\\20725.png      1      0\n",
       "10726  D:\\DACON_Anomoly\\data\\train\\20726.png      1      0\n",
       "\n",
       "[433 rows x 3 columns]"
      ]
     },
     "metadata": {},
     "output_type": "display_data"
    }
   ],
   "source": [
    "df_transister['label'] = df_transister['label'].apply(lambda label:transister_categories[label])\n",
    "\n",
    "display(df_transister)"
   ]
  },
  {
   "cell_type": "code",
   "execution_count": 52,
   "id": "d3deba73",
   "metadata": {},
   "outputs": [
    {
     "data": {
      "text/plain": [
       "0    213\n",
       "1     55\n",
       "2     55\n",
       "3     55\n",
       "4     55\n",
       "Name: label, dtype: int64"
      ]
     },
     "execution_count": 52,
     "metadata": {},
     "output_type": "execute_result"
    }
   ],
   "source": [
    "# 각 라벨에 대한 개수 확인\n",
    "df_transister['label'].value_counts()"
   ]
  },
  {
   "cell_type": "markdown",
   "id": "392eb994",
   "metadata": {},
   "source": [
    "### 함수 정의"
   ]
  },
  {
   "cell_type": "code",
   "execution_count": 98,
   "id": "03087664",
   "metadata": {},
   "outputs": [
    {
     "name": "stdout",
     "output_type": "stream",
     "text": [
      "len(x_train) = 389\n",
      "len(x_test) = 44\n"
     ]
    }
   ],
   "source": [
    "x_train_all, y_train_all = df_transister['file_name'].values, df_transister['label'].values\n",
    "x_train, x_test, y_train, y_test = train_test_split(x_train_all, y_train_all, stratify=y_train_all,\n",
    "                                                  test_size=0.1, random_state=0)\n",
    "print(f'{len(x_train) = }\\n{len(x_test) = }')"
   ]
  },
  {
   "cell_type": "code",
   "execution_count": 76,
   "id": "5ae16e05",
   "metadata": {},
   "outputs": [],
   "source": [
    "def images2arrs(x, input_shape):\n",
    "    arrs = []\n",
    "    for image in x:\n",
    "        arr = np.array(Image.open(image).resize(input_shape), dtype=np.uint8)\n",
    "        # Grayscale -> RGB\n",
    "        if len(arr.shape) == 2:\n",
    "            arr = np.tile(arr[:, :, np.newaxis], reps=[1, 1, 3])\n",
    "            \n",
    "        arrs.append(arr)\n",
    "        \n",
    "    return np.array(arrs, dtype=np.float32)  # (batch_size,height,width,depth)\n",
    "\n",
    "def normalize(x):\n",
    "    return x / 255"
   ]
  },
  {
   "cell_type": "markdown",
   "id": "19271e8a",
   "metadata": {},
   "source": [
    "### 데이터 만들기"
   ]
  },
  {
   "cell_type": "code",
   "execution_count": 99,
   "id": "a7921b20",
   "metadata": {},
   "outputs": [],
   "source": [
    "x_train = images2arrs(x_train,input_shape=(224,224))\n",
    "x_test = images2arrs(x_test,input_shape=(224,224))"
   ]
  },
  {
   "cell_type": "code",
   "execution_count": 100,
   "id": "abaf5b1e",
   "metadata": {},
   "outputs": [],
   "source": [
    "# reshape\n",
    "x_train_rows = x_train.reshape(x_train.shape[0],224*224*3)\n",
    "x_test_rows = x_test.reshape(x_test.shape[0],224*224*3)"
   ]
  },
  {
   "cell_type": "code",
   "execution_count": 101,
   "id": "b82ccc02",
   "metadata": {},
   "outputs": [
    {
     "name": "stdout",
     "output_type": "stream",
     "text": [
      "(389, 150528)\n",
      "(44, 150528)\n"
     ]
    }
   ],
   "source": [
    "print(x_train_rows.shape)\n",
    "print(x_test_rows.shape)"
   ]
  },
  {
   "cell_type": "code",
   "execution_count": 102,
   "id": "e3e78e6d",
   "metadata": {},
   "outputs": [],
   "source": [
    "# Normalize\n",
    "x_train_rows = normalize(x_train_rows)\n",
    "x_test_rows = normalize(x_test_rows)"
   ]
  },
  {
   "cell_type": "code",
   "execution_count": null,
   "id": "ebe27a72",
   "metadata": {},
   "outputs": [],
   "source": []
  },
  {
   "cell_type": "markdown",
   "id": "87c93d7b",
   "metadata": {},
   "source": [
    "## Model 생성하기"
   ]
  },
  {
   "cell_type": "code",
   "execution_count": 103,
   "id": "f741e850",
   "metadata": {},
   "outputs": [],
   "source": [
    "classifier = KNeighborsClassifier(n_neighbors = 3)"
   ]
  },
  {
   "cell_type": "code",
   "execution_count": 104,
   "id": "8608706c",
   "metadata": {},
   "outputs": [
    {
     "data": {
      "text/plain": [
       "KNeighborsClassifier(n_neighbors=3)"
      ]
     },
     "execution_count": 104,
     "metadata": {},
     "output_type": "execute_result"
    }
   ],
   "source": [
    "classifier.fit(x_train_rows,y_train)"
   ]
  },
  {
   "cell_type": "code",
   "execution_count": 105,
   "id": "950aa3b5",
   "metadata": {},
   "outputs": [
    {
     "name": "stdout",
     "output_type": "stream",
     "text": [
      "0.6363636363636364\n"
     ]
    }
   ],
   "source": [
    "# score\n",
    "print(classifier.score(x_test_rows,y_test))"
   ]
  },
  {
   "cell_type": "code",
   "execution_count": null,
   "id": "c00831c5",
   "metadata": {},
   "outputs": [],
   "source": []
  },
  {
   "cell_type": "markdown",
   "id": "0140fdb0",
   "metadata": {},
   "source": [
    "### Score비교 (k=1~100)"
   ]
  },
  {
   "cell_type": "code",
   "execution_count": 106,
   "id": "8f9aa80f",
   "metadata": {},
   "outputs": [
    {
     "data": {
      "image/png": "[encoded data removed]",
      "text/plain": [
       "<Figure size 432x288 with 1 Axes>"
      ]
     },
     "metadata": {
      "needs_background": "light"
     },
     "output_type": "display_data"
    }
   ],
   "source": [
    "k_list = range(1,101)\n",
    "accuracies=[]\n",
    "\n",
    "for k in k_list:\n",
    "    classifier = KNeighborsClassifier(n_neighbors=k)\n",
    "    classifier.fit(x_train_rows,y_train)\n",
    "    accuracies.append(classifier.score(x_test_rows,y_test))\n",
    "    \n",
    "plt.plot(k_list,accuracies)\n",
    "plt.xlabel('k')\n",
    "plt.ylabel('Accuracy')\n",
    "plt.show()"
   ]
  },
  {
   "cell_type": "code",
   "execution_count": null,
   "id": "74eb27d0",
   "metadata": {},
   "outputs": [],
   "source": []
  },
  {
   "cell_type": "code",
   "execution_count": null,
   "id": "cf2a4e2a",
   "metadata": {},
   "outputs": [],
   "source": []
  }
 ],
 "metadata": {
  "kernelspec": {
   "display_name": "Anomoly",
   "language": "python",
   "name": "anomoly"
  },
  "language_info": {
   "codemirror_mode": {
    "name": "ipython",
    "version": 3
   },
   "file_extension": ".py",
   "mimetype": "text/x-python",
   "name": "python",
   "nbconvert_exporter": "python",
   "pygments_lexer": "ipython3",
   "version": "3.9.12"
  }
 },
 "nbformat": 4,
 "nbformat_minor": 5
}
